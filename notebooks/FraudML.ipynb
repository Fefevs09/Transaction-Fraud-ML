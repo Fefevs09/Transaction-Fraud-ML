{
 "cells": [
  {
   "cell_type": "markdown",
   "metadata": {},
   "source": [
    "# Colunas\n",
    "- index: Identificador único para cada linha\n",
    "- trans_date_trans_time: Data e hora da transação\n",
    "- cc_num: Número do cartão de crédito do cliente\n",
    "- merchant: Nome do comerciante\n",
    "- category: Categoria do comerciante\n",
    "- amt: Valor da transação\n",
    "- first: Primeiro nome do titular do cartão de crédito\n",
    "- last: Sobrenome do titular do cartão de crédito\n",
    "- gender: Gênero do titular do cartão de crédito\n",
    "- street: Endereço residencial do titular do cartão de crédito\n",
    "- city: Cidade do titular do cartão de crédito\n",
    "- state: Estado do titular do cartão de crédito\n",
    "- zip: CEP do titular do cartão de crédito\n",
    "- lat: Localização de latitude do titular do cartão de crédito\n",
    "- long: Localização de longitude do titular do cartão de crédito\n",
    "- city_pop: População da cidade do titular do cartão de crédito\n",
    "- job: Profissão do titular do cartão de crédito\n",
    "- dob: Data de nascimento do titular do cartão de crédito\n",
    "- trans_num: Número da transação\n",
    "- unix_time: Horário UNIX da transação\n",
    "- merch_lat: Localização de latitude do comerciante\n",
    "- merch_long: Localização de longitude do comerciante\n",
    "- is_fraud: Indicador de fraude : Classe Alvo"
   ]
  },
  {
   "cell_type": "code",
   "execution_count": 40,
   "metadata": {},
   "outputs": [],
   "source": [
    "#%%\n",
    "# imports\n",
    "import numpy as np\n",
    "import pandas as pd\n",
    "import matplotlib.pyplot as plt\n",
    "import seaborn as sns\n",
    "\n",
    "from sklearn.model_selection import train_test_split\n",
    "from sklearn.preprocessing import OneHotEncoder, StandardScaler\n",
    "from sklearn.metrics import accuracy_score"
   ]
  },
  {
   "cell_type": "code",
   "execution_count": 41,
   "metadata": {},
   "outputs": [],
   "source": [
    "df_train = pd.read_csv('data/treino.csv', sep='|')\n",
    "df_test = pd.read_csv('data/teste.csv', sep='|')\n",
    "\n",
    "TEST_SIZE = 0.2\n",
    "RANDOM_SEED = 42\n",
    "\n",
    "features = ['gender', 'street', 'city', 'state', 'lat', 'long', 'job', 'dob', 'profile', 'trans_date', 'trans_time', 'unix_time', 'category', 'amt', 'is_fraud', 'merchant']\n",
    "df_train = df_train[features]"
   ]
  },
  {
   "cell_type": "code",
   "execution_count": 42,
   "metadata": {},
   "outputs": [
    {
     "name": "stdout",
     "output_type": "stream",
     "text": [
      "<class 'pandas.core.frame.DataFrame'>\n",
      "RangeIndex: 144352 entries, 0 to 144351\n",
      "Data columns (total 16 columns):\n",
      " #   Column      Non-Null Count   Dtype  \n",
      "---  ------      --------------   -----  \n",
      " 0   gender      144352 non-null  object \n",
      " 1   street      144352 non-null  object \n",
      " 2   city        144352 non-null  object \n",
      " 3   state       144352 non-null  object \n",
      " 4   lat         144352 non-null  float64\n",
      " 5   long        144352 non-null  float64\n",
      " 6   job         144352 non-null  object \n",
      " 7   dob         144352 non-null  object \n",
      " 8   profile     144352 non-null  object \n",
      " 9   trans_date  144194 non-null  object \n",
      " 10  trans_time  144194 non-null  object \n",
      " 11  unix_time   144194 non-null  float64\n",
      " 12  category    144194 non-null  object \n",
      " 13  amt         144194 non-null  float64\n",
      " 14  is_fraud    144194 non-null  float64\n",
      " 15  merchant    144194 non-null  object \n",
      "dtypes: float64(5), object(11)\n",
      "memory usage: 17.6+ MB\n"
     ]
    }
   ],
   "source": [
    "# df_train.dropna(subset='is_fraud', inplace=True)\n",
    "df_train.info()"
   ]
  },
  {
   "cell_type": "code",
   "execution_count": 52,
   "metadata": {},
   "outputs": [
    {
     "ename": "AttributeError",
     "evalue": "'numpy.ndarray' object has no attribute 'plot'",
     "output_type": "error",
     "traceback": [
      "\u001b[0;31m---------------------------------------------------------------------------\u001b[0m",
      "\u001b[0;31mAttributeError\u001b[0m                            Traceback (most recent call last)",
      "Cell \u001b[0;32mIn[52], line 6\u001b[0m\n\u001b[1;32m      4\u001b[0m gender \u001b[38;5;241m=\u001b[39m df_train[[\u001b[38;5;124m\"\u001b[39m\u001b[38;5;124mgender\u001b[39m\u001b[38;5;124m\"\u001b[39m]]\n\u001b[1;32m      5\u001b[0m df_train_enconded \u001b[38;5;241m=\u001b[39m ordinal_encoder\u001b[38;5;241m.\u001b[39mfit_transform(gender)\n\u001b[0;32m----> 6\u001b[0m \u001b[43mdf_train_enconded\u001b[49m\u001b[38;5;241;43m.\u001b[39;49m\u001b[43mplot\u001b[49m()\n",
      "\u001b[0;31mAttributeError\u001b[0m: 'numpy.ndarray' object has no attribute 'plot'"
     ]
    }
   ],
   "source": [
    "from sklearn.preprocessing import OrdinalEncoder\n",
    "ordinal_encoder = OrdinalEncoder()\n",
    "categorys_features = [\"gender\", \"street\", \"city\", \"state\", \"job\", \"dob\", \"profile\", \"category\", \"merchant\"]\n",
    "gender = df_train[[\"gender\"]]\n",
    "df_train_enconded = ordinal_encoder.fit_transform(gender)\n",
    "df_train_enconded"
   ]
  },
  {
   "cell_type": "code",
   "execution_count": null,
   "metadata": {},
   "outputs": [
    {
     "data": {
      "text/plain": [
       "array([[1.0000e+00, 7.7000e+01, 1.1400e+02, ..., 1.2700e+02, 0.0000e+00,\n",
       "        6.1800e+02],\n",
       "       [0.0000e+00, 1.5500e+02, 1.2600e+02, ..., 9.5200e+02, 0.0000e+00,\n",
       "        3.3300e+02],\n",
       "       [1.0000e+00, 1.7000e+01, 9.1000e+01, ..., 1.4126e+04, 0.0000e+00,\n",
       "        2.2200e+02],\n",
       "       ...,\n",
       "       [1.0000e+00, 1.2500e+02, 4.7000e+01, ..., 1.0000e+00, 0.0000e+00,\n",
       "        4.8800e+02],\n",
       "       [1.0000e+00, 1.1000e+02, 6.3000e+01, ..., 4.6400e+03, 0.0000e+00,\n",
       "        3.1000e+01],\n",
       "       [0.0000e+00, 6.9000e+01, 8.7000e+01, ..., 1.2600e+03, 0.0000e+00,\n",
       "        5.6400e+02]])"
      ]
     },
     "execution_count": 34,
     "metadata": {},
     "output_type": "execute_result"
    }
   ],
   "source": [
    "from sklearn.impute import SimpleImputer\n",
    "imputer = SimpleImputer(strategy=\"median\")\n",
    "\n",
    "imputer.fit_transform(df_train_enconded)"
   ]
  },
  {
   "cell_type": "code",
   "execution_count": null,
   "metadata": {},
   "outputs": [
    {
     "data": {
      "text/plain": [
       "is_fraud\n",
       "0.0    36028\n",
       "1.0       19\n",
       "Name: count, dtype: int64"
      ]
     },
     "execution_count": 21,
     "metadata": {},
     "output_type": "execute_result"
    }
   ],
   "source": [
    "sub = pd.read_csv(\"submissao.csv 22-06-12-070.csv\")\n",
    "sub['is_fraud'].value_counts()"
   ]
  },
  {
   "cell_type": "code",
   "execution_count": null,
   "metadata": {},
   "outputs": [],
   "source": []
  }
 ],
 "metadata": {
  "kernelspec": {
   "display_name": "base",
   "language": "python",
   "name": "python3"
  },
  "language_info": {
   "codemirror_mode": {
    "name": "ipython",
    "version": 3
   },
   "file_extension": ".py",
   "mimetype": "text/x-python",
   "name": "python",
   "nbconvert_exporter": "python",
   "pygments_lexer": "ipython3",
   "version": "3.10.13"
  }
 },
 "nbformat": 4,
 "nbformat_minor": 2
}
